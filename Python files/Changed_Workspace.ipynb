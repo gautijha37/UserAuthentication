{
 "cells": [
  {
   "cell_type": "code",
   "execution_count": 1,
   "id": "d2eb891e",
   "metadata": {},
   "outputs": [],
   "source": [
    "import os\n",
    "import string\n",
    "from datetime import datetime\n",
    "import numpy as np\n",
    "import itertools\n",
    "import matplotlib.pyplot as plt"
   ]
  },
  {
   "cell_type": "code",
   "execution_count": 2,
   "id": "44bd6cd3",
   "metadata": {},
   "outputs": [],
   "source": [
    "def timediff(t1,t2):\n",
    "    #t1=(t1 + '000')\n",
    "    #t2=(t2 + '000')\n",
    "    day1=datetime.strptime(t1, \"%d:%m:%Y:%H:%M:%S:%f\")\n",
    "    day2=datetime.strptime(t2, \"%d:%m:%Y:%H:%M:%S:%f\")\n",
    "    sec = (day2-day1).total_seconds()\n",
    "    return(sec)"
   ]
  },
  {
   "cell_type": "code",
   "execution_count": 3,
   "id": "b5da354a",
   "metadata": {},
   "outputs": [],
   "source": [
    "def extract_keylog_features(path):\n",
    "    lines = [line.rstrip('\\t\\n') for line in open(path)]\n",
    "    f_list = [event.split('\\t') for event in lines]\n",
    "    #lines2 = [line.rstrip('\\t\\n') for line in open('1.txt')]\n",
    "    #f_list2 = [event.split('\\t') for event in lines2]\n",
    "    alp = list(string.ascii_lowercase)\n",
    "    alp2 = list(map(''.join,itertools.combinations(string.ascii_lowercase,2)))\n",
    "\n",
    "    KeyUps = [x for x in f_list if 'KeyUp' in x]\n",
    "    KeyDowns = [x for x in f_list if 'KeyDown' in x]\n",
    "\n",
    "    tups =  [item[2] for item in KeyUps]# if item[1] in alp]\n",
    "    tdowns =  [item1[2] for item1 in KeyDowns]# if item1[1] in alp]\n",
    "    try:\n",
    "        letterup =  [item[1].upper() for item in KeyUps]# if item[1] in alp]\n",
    "    except: \n",
    "        pass\n",
    "\n",
    "    try:\n",
    "        letterdown = [item1[1].upper() for item1 in KeyDowns]# if item1[1] in alp]\n",
    "    except:\n",
    "        pass\n",
    "\n",
    "    features = []\n",
    "    for i in range(0,len(tups)-1):\n",
    "        t = i\n",
    "\n",
    "        t1 = tdowns[i] #timestamp of downpress\n",
    "\n",
    "        if letterup[t] != letterdown[i]: #Simultaneous press\n",
    "            j = i\n",
    "\n",
    "            if i == len(tups)-1:\n",
    "                j = 0\n",
    "            while j<len(tups)-1 and letterdown[i]!= letterup[j] and i!=len(tups)-1: #skip inbetween to go to the release key\n",
    "                j = j+1\n",
    "\n",
    "            tj = tups[j]\n",
    "            k = i\n",
    "\n",
    "            if i == 0:\n",
    "                k = len(tups)-1\n",
    "            while k>=1 and letterdown[i]!= letterup[k] and i!=0: # repeat same key\n",
    "                k = k-1\n",
    "\n",
    "            tk = tups[k]\n",
    "\n",
    "\n",
    "            if timediff(t1,tk)>0 and timediff(t1,tj)>0 :\n",
    "                if abs(j-i)<abs(i-k):\n",
    "                    t = j\n",
    "                else:\n",
    "                    t = k\n",
    "\n",
    "            elif timediff(t1,tk)<0 :\n",
    "                t = j\n",
    "            else:\n",
    "                t = k\n",
    "\n",
    "        t2 = tups[t]        # release time stamp\n",
    "\n",
    "\n",
    "\n",
    "        if i!=len(tups)-1:\n",
    "\n",
    "            t3 = tdowns[i+1]  # Next key time stamp\n",
    "            latency = timediff(t1,t3)\n",
    "\n",
    "            lat = letterdown[i]+letterdown[i+1],latency\n",
    "            features.append(lat)\n",
    "\n",
    "        hold_time = timediff(t1,t2)\n",
    "        hold = letterdown[i],hold_time\n",
    "        features.append(hold)\n",
    "        \n",
    "    return features"
   ]
  },
  {
   "cell_type": "code",
   "execution_count": 4,
   "id": "4c72f2b9",
   "metadata": {},
   "outputs": [
    {
     "data": {
      "text/plain": [
       "99"
      ]
     },
     "execution_count": 4,
     "metadata": {},
     "output_type": "execute_result"
    }
   ],
   "source": [
    "Roll_nos = ['17EC32005', '17EC34003', '17EC35023', '17EC35036', '18EC10025', '18EC35010', '18EC35021', '18EC35045', '18EC3AI19']\n",
    "num_roll_nos = len(Roll_nos)\n",
    "os.chdir(\"/home/digvijay-pc/Desktop/MIES/OneDrive_2021-11-08/Term Project/\")\n",
    "\n",
    "data_features = []\n",
    "data_tags = []\n",
    "unique_features = set([])\n",
    "\n",
    "for r in range(num_roll_nos):\n",
    "    for subdir,dirs,file in os.walk(os.path.join('/home/digvijay-pc/Desktop/MIES/OneDrive_2021-11-08/Term Project/Continuous Data Rearranged',Roll_nos[r])):\n",
    "        for directory in dirs:\n",
    "#             print(subdir,directory)\n",
    "            features = extract_keylog_features(os.path.join('/home/digvijay-pc/Desktop/MIES/OneDrive_2021-11-08/Term Project/Continuous Data Rearranged',Roll_nos[r],directory,'KeyLog.txt'))\n",
    "            data_features.append(features)\n",
    "            data_tags.append(r)\n",
    "            \n",
    "            unique_features = unique_features.union(set([ x for (x,y) in features]))\n",
    "            \n",
    "len(data_features)"
   ]
  },
  {
   "cell_type": "code",
   "execution_count": 5,
   "id": "192d1db1",
   "metadata": {},
   "outputs": [],
   "source": [
    "splitting_size = 400\n",
    "\n",
    "# hyperparameters\n",
    "\n",
    "num_epochs = 1000\n",
    "eta_0 = 0.8\n",
    "sigma_0 = 2\n",
    "t_eta = 20\n",
    "t_sigma = 100\n",
    "n = 15\n"
   ]
  },
  {
   "cell_type": "code",
   "execution_count": 6,
   "id": "56ac4d36",
   "metadata": {},
   "outputs": [],
   "source": [
    "data_features_temp = []\n",
    "data_tags_temp = []\n",
    "\n",
    "for r in range(len(Roll_nos)):\n",
    "    indices = np.where(np.array(data_tags)==r)[0]\n",
    "    features_temp = []\n",
    "    for i in indices:\n",
    "        features_temp = features_temp + data_features[i]\n",
    "    \n",
    "    j=0\n",
    "    j_next=0\n",
    "    while(j_next < len(features_temp)):\n",
    "        j_next = min(j + splitting_size, len(features_temp))\n",
    "        data_features_temp.append(features_temp[j:j_next])\n",
    "        data_tags_temp.append(r)\n",
    "        j = j_next\n",
    "    \n",
    "data_features = data_features_temp\n",
    "data_tags = data_tags_temp"
   ]
  },
  {
   "cell_type": "code",
   "execution_count": null,
   "id": "626cf594",
   "metadata": {},
   "outputs": [],
   "source": []
  },
  {
   "cell_type": "code",
   "execution_count": 7,
   "id": "49071916",
   "metadata": {},
   "outputs": [
    {
     "data": {
      "text/plain": [
       "400"
      ]
     },
     "execution_count": 7,
     "metadata": {},
     "output_type": "execute_result"
    }
   ],
   "source": [
    "len(data_features[1])"
   ]
  },
  {
   "cell_type": "code",
   "execution_count": null,
   "id": "b4ed92c3",
   "metadata": {},
   "outputs": [],
   "source": []
  },
  {
   "cell_type": "code",
   "execution_count": 8,
   "id": "c81813ce",
   "metadata": {},
   "outputs": [],
   "source": [
    "threshold = 1\n",
    "\n",
    "unique_features_dict = { list(unique_features)[i]: i for i in range(len(unique_features)) }\n",
    "m = len(unique_features_dict)\n",
    "D = len(data_features) # number of data points\n",
    "\n",
    "x_vectors = np.zeros((D,m))\n",
    "x_tags = np.zeros(D)\n",
    "cox_vectors = np.zeros((D,m)) # count of x\n",
    "\n",
    "for d in range(D):\n",
    "    for (a,a_val) in data_features[d]:\n",
    "        if(a_val > threshold):\n",
    "            continue\n",
    "        a_idx = unique_features_dict[a]\n",
    "        x_vectors[d,a_idx] = x_vectors[d,a_idx] + a_val\n",
    "        cox_vectors[d,a_idx] = cox_vectors[d,a_idx] + 1\n",
    "    cnt_locs = np.where(cox_vectors[d,:]>0)\n",
    "    x_vectors[d,cnt_locs] = x_vectors[d,cnt_locs] / cox_vectors[d,cnt_locs]\n",
    "    x_tags[d] = data_tags[d]"
   ]
  },
  {
   "cell_type": "code",
   "execution_count": 9,
   "id": "99f413e6",
   "metadata": {},
   "outputs": [],
   "source": [
    "x_means = np.mean(x_vectors, 0)\n",
    "x_std = np.std(x_vectors, 0)\n",
    "cox_total = np.sum(cox_vectors, 0)\n",
    "\n",
    "std0_locs = np.where(x_std==0)\n",
    "std_locs = np.where(x_std > 0)\n",
    "\n",
    "x_vectors[:,std0_locs] = (x_vectors[:,std0_locs] - x_means[std0_locs])\n",
    "x_vectors[:,std_locs] = (x_vectors[:,std_locs] - x_means[std_locs]) / x_std[std_locs]"
   ]
  },
  {
   "cell_type": "code",
   "execution_count": 10,
   "id": "ab540c2e",
   "metadata": {},
   "outputs": [],
   "source": [
    "shuffle_indices = np.random.permutation(D)\n",
    "x_vectors = x_vectors[shuffle_indices,:]\n",
    "cox_vectors = cox_vectors[shuffle_indices,:]\n",
    "x_tags = x_tags[shuffle_indices]"
   ]
  },
  {
   "cell_type": "code",
   "execution_count": 11,
   "id": "c6dabb15",
   "metadata": {},
   "outputs": [
    {
     "data": {
      "text/plain": [
       "array([6., 0., 4., 1., 6., 6., 6., 0., 0., 1., 1., 8., 6., 1., 2., 1., 4.,\n",
       "       0., 1., 0., 8., 1., 0., 6., 6., 0., 0., 8., 6., 0., 6., 1., 1., 0.,\n",
       "       6., 0., 6., 0., 5., 0., 5., 0., 5., 5., 5., 6., 0., 1., 6., 5., 6.,\n",
       "       1., 4., 1., 6., 1., 0., 1., 0., 6., 0., 6., 6., 5., 5., 0., 0., 5.,\n",
       "       1., 0., 4., 0., 4., 1., 6., 0., 0., 0., 0., 1., 0., 6., 0., 0., 1.,\n",
       "       0., 1., 0., 5., 5., 1., 0., 6., 5., 4., 1., 0., 1., 1., 1., 6., 4.,\n",
       "       1., 4., 7., 0., 4., 6., 6., 0., 0., 0., 0., 6., 0., 1., 4., 5., 1.,\n",
       "       1., 1., 6., 1., 3., 0., 1., 4., 4., 5., 6., 0., 0., 3., 1., 1., 1.,\n",
       "       0., 0., 6., 0., 0., 1., 0., 0., 6., 4., 0., 0., 1., 1., 4., 0., 2.,\n",
       "       0., 6., 6., 6., 0., 0., 6., 0., 4., 0., 1., 1., 1., 6., 0., 6., 1.,\n",
       "       4., 0., 5., 0., 6., 1., 1., 0., 0., 6., 0., 6., 0., 0., 4., 0., 1.,\n",
       "       1., 5., 1., 6., 3., 1., 6., 1., 6., 8., 4., 0., 1., 0., 0., 0., 5.,\n",
       "       1., 8., 6., 1., 6., 1., 0., 0., 6., 6., 6., 1., 5., 6., 5., 0., 3.,\n",
       "       6., 1., 6., 1., 6., 0., 0., 0., 0., 4., 4., 1., 6., 1., 1., 0., 0.,\n",
       "       2., 5., 5., 6., 0., 4., 2., 5., 5., 1., 3., 1., 3., 4., 3., 1., 5.,\n",
       "       6., 6., 1., 5., 1., 6., 1., 0., 0., 1., 4., 4., 0., 6., 6., 1., 5.,\n",
       "       1., 1., 1., 0., 6., 6., 1., 4., 4., 4., 6., 8., 4., 1., 4., 1., 6.,\n",
       "       1., 0., 1., 0., 6., 0., 1., 1., 1., 6., 0., 1., 1., 1., 2., 1., 1.,\n",
       "       0., 1., 6., 1., 3., 1., 1., 4., 6., 0., 6., 0., 0., 0., 6., 5., 0.,\n",
       "       1., 6., 5., 1., 0., 7., 4., 6., 7., 1., 0., 0., 4., 1., 1., 6., 6.,\n",
       "       1., 3., 0., 5., 1., 6., 0., 5., 1., 0., 0., 0., 6., 4., 0., 0., 5.,\n",
       "       1., 3., 5., 0., 6., 6., 4., 8., 1., 1., 6., 0., 1., 0., 5., 5., 5.,\n",
       "       4., 0., 6., 6., 4., 1., 6., 0., 6., 3., 6., 1., 0., 0., 1., 6., 4.,\n",
       "       0., 5., 0., 1., 4., 6., 1., 2., 0., 0., 0., 1., 6., 6., 5., 1., 1.,\n",
       "       4., 6., 4., 0., 6., 0., 0., 0., 0., 6., 1., 0., 0., 1., 5., 3., 5.,\n",
       "       1., 0., 4., 6., 0., 1., 1., 4., 0., 6., 0., 8., 4., 6., 1., 4., 5.,\n",
       "       2., 6., 1., 0., 6., 1., 0., 7., 4., 1., 6., 1., 1., 6., 5., 6., 0.,\n",
       "       6., 0., 6., 6., 4., 6., 6., 5., 3., 1., 0., 4., 1., 1., 0., 0., 4.,\n",
       "       4., 0., 5., 5., 4., 0., 1., 6., 6., 0., 6., 1., 6., 0., 1., 0., 1.,\n",
       "       6., 6., 1., 0., 1., 6., 6., 1., 8., 4., 0., 0., 5., 5., 4., 5., 0.,\n",
       "       6., 0., 6., 3., 0., 6., 0., 0., 4., 0., 5., 1., 4., 0., 6., 6., 6.,\n",
       "       1., 1., 1., 4., 4., 6., 6., 6., 0., 0., 1., 3., 1., 5., 4., 6., 1.,\n",
       "       4., 0., 0., 0., 0., 0., 4., 1., 7., 4., 1., 0., 6., 1., 1., 5., 4.,\n",
       "       1., 6.])"
      ]
     },
     "execution_count": 11,
     "metadata": {},
     "output_type": "execute_result"
    }
   ],
   "source": [
    "x_tags"
   ]
  },
  {
   "cell_type": "code",
   "execution_count": 12,
   "id": "511478ca",
   "metadata": {},
   "outputs": [],
   "source": [
    "class SOM:\n",
    "    def __init__(self, input_dimension, Koho_dimension):\n",
    "        self.m = input_dimension\n",
    "        self.n = Koho_dimension\n",
    "        self.weights = np.random.randn(self.n, self.n, self.m)\n",
    "    \n",
    "    def winning_neuron(self, x, cox):\n",
    "        cnt_locs = np.where(cox>0)\n",
    "        Euclid_dist = np.sum( np.square(x[cnt_locs] - self.weights[:,:,cnt_locs]) , 2)\n",
    "        num = np.argmin( Euclid_dist )\n",
    "        p_win, q_win = tuple(np.array([num/self.n, num%self.n],dtype=int))\n",
    "        return p_win, q_win\n",
    "    \n",
    "    def neighbourhood_weights(self, p_win, q_win, sigma):\n",
    "        Lateral_dist_sq = np.zeros((self.n, self.n)) + (np.square(np.arange(self.n) - p_win) \n",
    "                                                        + np.square(np.arange(self.n) - q_win)[:,None])\n",
    "        Topo_neigh = np.exp(-Lateral_dist_sq/(2*np.square(sigma)))\n",
    "        return Topo_neigh\n",
    "    \n",
    "    def update_weights(self, x, cox, eta, Topo_neigh):\n",
    "        cnt_locs = np.where(cox>0)\n",
    "        delta_weights = (x[cnt_locs] - self.weights[:,:,cnt_locs])\n",
    "        self.weights[:,:,cnt_locs] = self.weights[:,:,cnt_locs] + delta_weights\n",
    "    \n",
    "    def train(self, x_vectors, cox_vectors, num_epochs, eta_0, sigma_0, t_eta, t_sigma):\n",
    "        D = x_vectors.shape[0]\n",
    "        \n",
    "        for t in range(num_epochs):\n",
    "            eta = eta_0 * np.exp(-t/t_eta)\n",
    "            sigma = sigma_0 * np.exp(-t/t_sigma)\n",
    "            \n",
    "            for d in range(D):\n",
    "                p_win, q_win = self.winning_neuron(x_vectors[d,:], cox_vectors[d,:])\n",
    "                Topo_neigh = self.neighbourhood_weights(p_win, q_win, sigma)\n",
    "                self.update_weights(x_vectors[d,:], cox_vectors[d,:], eta, Topo_neigh)\n",
    "            \n",
    "            if(t%10==0):\n",
    "                print(\"Finished epoch :\",t)\n",
    "#                 print(Topo_neigh, eta)\n",
    "\n",
    "     \n",
    "    def set_of_winning_neurons(self, x_vectors, cox_vectors):\n",
    "        D = x_vectors.shape[0]\n",
    "        p_wins = np.zeros(D)\n",
    "        q_wins = np.zeros(D)\n",
    "        for d in range(D):\n",
    "            p_wins[d], q_wins[d] = self.winning_neuron(x_vectors[d,:], cox_vectors[d,:])\n",
    "        \n",
    "        return p_wins, q_wins\n",
    "    \n",
    "    def cluster(self, x_vectors, cox_vectors, num_clusters, num_iters):\n",
    "        D = x_vectors.shape[0]\n",
    "        winning_neurons = np.zeros((D,2))\n",
    "        cluster_vals = np.zeros(D, dtype=int)\n",
    "        for d in range(D):\n",
    "            winning_neurons[d,:] = self.winning_neuron(x_vectors[d,:],cox_vectors[d,:])\n",
    "        \n",
    "#         cluster_centres_p = np.random.choice(a=self.n, size=num_clusters, replace=False)\n",
    "#         cluster_centres_q = np.random.choice(a=self.n, size=num_clusters, replace=False)\n",
    "#         cluster_centres = np.concatenate((cluster_centres_p[:,None], cluster_centres_q[:,None]), axis=1)\n",
    "        cluster_centres = np.zeros((num_clusters,2))\n",
    "    \n",
    "        n=0\n",
    "        while(n<num_clusters):\n",
    "            d_random = np.random.randint(D)\n",
    "            flag=1\n",
    "            for n2 in range(num_clusters):\n",
    "                if(np.linalg.norm(cluster_centres[n2,:] - winning_neurons[d_random,:])==0):\n",
    "                    flag=0\n",
    "            if(flag==1):\n",
    "                cluster_centres[n,:] = winning_neurons[d_random,:]\n",
    "                n = n+1\n",
    "            \n",
    "        for e in range(num_iters):\n",
    "            cluster_sums = np.zeros((D,2))\n",
    "            cluster_count = np.zeros(D, dtype=int)\n",
    "            for d in range(D):\n",
    "                cluster_vals[d] = np.argmin( np.sum(np.square(cluster_centres - winning_neurons[d,:]), axis=0) ) \n",
    "                cluster_sums[cluster_vals[d],:] = cluster_sums[cluster_vals[d],:] + winning_neurons[d,:]\n",
    "                cluster_count[cluster_vals[d]] = cluster_count[cluster_vals[d]] + 1\n",
    "            cluster_centres = cluster_sums / cluster_count[:,None]\n",
    "        \n",
    "        return cluster_centres\n",
    "    \n",
    "    def sk_cluster(self, x_vectors, cox_vectors, num_clusters, num_iters):\n",
    "        D = x_vectors.shape[0]\n",
    "        winning_neurons = np.zeros((D,2))\n",
    "        cluster_vals = np.zeros(D, dtype=int)\n",
    "        for d in range(D):\n",
    "            winning_neurons[d,:] = self.winning_neuron(x_vectors[d,:],cox_vectors[d,:])\n",
    "        \n",
    "        print(winning_neurons.shape)\n",
    "        kmeans = KMeans(num_clusters)\n",
    "        kmeans.fit(winning_neurons)\n",
    "        return kmeans.cluster_centers_\n",
    "    \n",
    "    \n",
    "    def eucd_dist(self, p1, p2):\n",
    "        dist = np.sqrt(np.sum(np.square(p1-p2)))\n",
    "        return dist\n",
    "\n",
    "    def init_mean(self, num_points, data):\n",
    "        ind = np.random.choice(len(data),num_points, replace=False)\n",
    "        centers = np.zeros((num_points, data.shape[1]))\n",
    "        for i in range(num_points):\n",
    "            centers[i] = data[int(ind[i])]\n",
    "        return centers\n",
    "\n",
    "    def classify(self, c_means, data):\n",
    "        class_val = np.zeros((len(data)), dtype=int)\n",
    "        for i in range(len(data)):\n",
    "            min_dist = 1000000\n",
    "            ind = 0\n",
    "            for j in range(len(c_means)):\n",
    "                dist = self.eucd_dist(c_means[j], data[i])\n",
    "                if(dist<min_dist):\n",
    "                    min_dist = dist\n",
    "                    ind = j\n",
    "            class_val[i] = ind\n",
    "        return class_val\n",
    "\n",
    "    def update(self, c_means, new_class, data):\n",
    "        new_means = np.zeros((c_means.shape))\n",
    "        means_count = np.zeros((c_means.shape[0]))\n",
    "\n",
    "        for i in range(len(data)):\n",
    "            new_means[new_class[i]] = new_means[new_class[i]] + data[i]\n",
    "            means_count[new_class[i]] += 1\n",
    "\n",
    "        for j in range(len(means_count)):\n",
    "            new_means[j] /= (float(means_count[j])+0.00001)\n",
    "\n",
    "        return new_means\n",
    "\n",
    "\n",
    "    def iteration(self, x_vectors, cox_vectors, num_clusters=9, num_iters=10):\n",
    "        D = x_vectors.shape[0]\n",
    "        winning_neurons = np.zeros((D,2))\n",
    "        cluster_vals = np.zeros(D, dtype=int)\n",
    "        for d in range(D):\n",
    "            winning_neurons[d,:] = self.winning_neuron(x_vectors[d,:],cox_vectors[d,:])\n",
    "            \n",
    "        new_means = self.init_mean(num_clusters, winning_neurons)\n",
    "        print(new_means)\n",
    "\n",
    "        for i in range(num_iters):\n",
    "\n",
    "            labels = self.classify(new_means, winning_neurons)\n",
    "            new_means = self.update(new_means, labels, winning_neurons)\n",
    "\n",
    "        return new_means"
   ]
  },
  {
   "cell_type": "code",
   "execution_count": null,
   "id": "f5555949",
   "metadata": {},
   "outputs": [],
   "source": []
  },
  {
   "cell_type": "code",
   "execution_count": 13,
   "id": "bbc98a34",
   "metadata": {
    "scrolled": true
   },
   "outputs": [
    {
     "name": "stdout",
     "output_type": "stream",
     "text": [
      "Finished epoch : 0\n",
      "Finished epoch : 10\n",
      "Finished epoch : 20\n",
      "Finished epoch : 30\n",
      "Finished epoch : 40\n",
      "Finished epoch : 50\n",
      "Finished epoch : 60\n",
      "Finished epoch : 70\n",
      "Finished epoch : 80\n",
      "Finished epoch : 90\n",
      "Finished epoch : 100\n",
      "Finished epoch : 110\n",
      "Finished epoch : 120\n",
      "Finished epoch : 130\n",
      "Finished epoch : 140\n",
      "Finished epoch : 150\n",
      "Finished epoch : 160\n",
      "Finished epoch : 170\n",
      "Finished epoch : 180\n",
      "Finished epoch : 190\n",
      "Finished epoch : 200\n",
      "Finished epoch : 210\n",
      "Finished epoch : 220\n",
      "Finished epoch : 230\n",
      "Finished epoch : 240\n",
      "Finished epoch : 250\n",
      "Finished epoch : 260\n",
      "Finished epoch : 270\n",
      "Finished epoch : 280\n",
      "Finished epoch : 290\n",
      "Finished epoch : 300\n",
      "Finished epoch : 310\n",
      "Finished epoch : 320\n",
      "Finished epoch : 330\n",
      "Finished epoch : 340\n",
      "Finished epoch : 350\n",
      "Finished epoch : 360\n",
      "Finished epoch : 370\n",
      "Finished epoch : 380\n",
      "Finished epoch : 390\n",
      "Finished epoch : 400\n",
      "Finished epoch : 410\n",
      "Finished epoch : 420\n",
      "Finished epoch : 430\n",
      "Finished epoch : 440\n",
      "Finished epoch : 450\n",
      "Finished epoch : 460\n",
      "Finished epoch : 470\n",
      "Finished epoch : 480\n",
      "Finished epoch : 490\n",
      "Finished epoch : 500\n",
      "Finished epoch : 510\n",
      "Finished epoch : 520\n",
      "Finished epoch : 530\n",
      "Finished epoch : 540\n",
      "Finished epoch : 550\n",
      "Finished epoch : 560\n",
      "Finished epoch : 570\n",
      "Finished epoch : 580\n",
      "Finished epoch : 590\n",
      "Finished epoch : 600\n",
      "Finished epoch : 610\n",
      "Finished epoch : 620\n",
      "Finished epoch : 630\n",
      "Finished epoch : 640\n",
      "Finished epoch : 650\n",
      "Finished epoch : 660\n",
      "Finished epoch : 670\n",
      "Finished epoch : 680\n",
      "Finished epoch : 690\n",
      "Finished epoch : 700\n",
      "Finished epoch : 710\n",
      "Finished epoch : 720\n",
      "Finished epoch : 730\n",
      "Finished epoch : 740\n",
      "Finished epoch : 750\n",
      "Finished epoch : 760\n",
      "Finished epoch : 770\n",
      "Finished epoch : 780\n",
      "Finished epoch : 790\n",
      "Finished epoch : 800\n",
      "Finished epoch : 810\n",
      "Finished epoch : 820\n",
      "Finished epoch : 830\n",
      "Finished epoch : 840\n",
      "Finished epoch : 850\n",
      "Finished epoch : 860\n",
      "Finished epoch : 870\n",
      "Finished epoch : 880\n",
      "Finished epoch : 890\n",
      "Finished epoch : 900\n",
      "Finished epoch : 910\n",
      "Finished epoch : 920\n",
      "Finished epoch : 930\n",
      "Finished epoch : 940\n",
      "Finished epoch : 950\n",
      "Finished epoch : 960\n",
      "Finished epoch : 970\n",
      "Finished epoch : 980\n",
      "Finished epoch : 990\n"
     ]
    }
   ],
   "source": [
    "OurSOM = SOM(m,n)\n",
    "OurSOM.train(x_vectors, cox_vectors, num_epochs, eta_0, sigma_0, t_eta, t_sigma)"
   ]
  },
  {
   "cell_type": "code",
   "execution_count": null,
   "id": "1a97b8c8",
   "metadata": {},
   "outputs": [],
   "source": []
  },
  {
   "cell_type": "code",
   "execution_count": null,
   "id": "b733f1f1",
   "metadata": {},
   "outputs": [],
   "source": []
  },
  {
   "cell_type": "code",
   "execution_count": 14,
   "id": "ac2671ff",
   "metadata": {},
   "outputs": [
    {
     "name": "stdout",
     "output_type": "stream",
     "text": [
      "[[ 5.  6.]\n",
      " [ 3. 13.]\n",
      " [ 0.  2.]\n",
      " [ 1. 10.]\n",
      " [ 3.  5.]\n",
      " [ 1.  0.]\n",
      " [ 5. 14.]\n",
      " [ 0.  3.]\n",
      " [ 1. 12.]]\n"
     ]
    }
   ],
   "source": [
    "best_fit = OurSOM.iteration(x_vectors, cox_vectors, 9, 10)"
   ]
  },
  {
   "cell_type": "code",
   "execution_count": 15,
   "id": "62f6a603",
   "metadata": {},
   "outputs": [
    {
     "data": {
      "text/plain": [
       "array([[ 5.23684073,  2.73684139],\n",
       "       [ 2.3999988 , 12.44999378],\n",
       "       [ 0.2297297 ,  1.59459438],\n",
       "       [ 0.58415836,  8.44554372],\n",
       "       [ 2.7741931 ,  6.16128933],\n",
       "       [ 0.85333322,  0.18666664],\n",
       "       [ 6.74999663, 10.74999463],\n",
       "       [ 0.3243243 ,  4.25225187],\n",
       "       [ 0.38709671, 12.30644963]])"
      ]
     },
     "execution_count": 15,
     "metadata": {},
     "output_type": "execute_result"
    }
   ],
   "source": [
    "best_fit"
   ]
  },
  {
   "cell_type": "code",
   "execution_count": 16,
   "id": "87d7b8fe",
   "metadata": {},
   "outputs": [
    {
     "data": {
      "image/png": "[encoded data removed]",
      "text/plain": [
       "<Figure size 432x288 with 1 Axes>"
      ]
     },
     "metadata": {
      "needs_background": "light"
     },
     "output_type": "display_data"
    }
   ],
   "source": [
    "plt.scatter(best_fit[:,0], best_fit[:,1])\n",
    "plt.show()"
   ]
  },
  {
   "cell_type": "code",
   "execution_count": null,
   "id": "baa1b6da",
   "metadata": {},
   "outputs": [],
   "source": []
  },
  {
   "cell_type": "code",
   "execution_count": 17,
   "id": "39ab48aa",
   "metadata": {},
   "outputs": [],
   "source": [
    "from sklearn.cluster import KMeans\n",
    "# kmeans = KMeans(3)\n",
    "# means.fit(x)\n",
    "# identified_clusters = kmeans.fit_predict(x)\n",
    "# identified_clusters\n",
    "# KMeans().fit()"
   ]
  },
  {
   "cell_type": "code",
   "execution_count": 18,
   "id": "a808c60e",
   "metadata": {},
   "outputs": [
    {
     "name": "stderr",
     "output_type": "stream",
     "text": [
      "<ipython-input-12-6e2c389ddfac>:81: RuntimeWarning: invalid value encountered in true_divide\n",
      "  cluster_centres = cluster_sums / cluster_count[:,None]\n"
     ]
    },
    {
     "data": {
      "text/plain": [
       "array([[1.339254  , 5.63055062],\n",
       "       [       nan,        nan],\n",
       "       [       nan,        nan],\n",
       "       ...,\n",
       "       [       nan,        nan],\n",
       "       [       nan,        nan],\n",
       "       [       nan,        nan]])"
      ]
     },
     "execution_count": 18,
     "metadata": {},
     "output_type": "execute_result"
    }
   ],
   "source": [
    "OurSOM.cluster(x_vectors, cox_vectors, 9, 10)"
   ]
  },
  {
   "cell_type": "code",
   "execution_count": 19,
   "id": "6087f70c",
   "metadata": {},
   "outputs": [
    {
     "name": "stdout",
     "output_type": "stream",
     "text": [
      "(563, 2)\n",
      "(9, 2)\n"
     ]
    },
    {
     "data": {
      "image/png": "[encoded data removed]",
      "text/plain": [
       "<Figure size 432x288 with 1 Axes>"
      ]
     },
     "metadata": {
      "needs_background": "light"
     },
     "output_type": "display_data"
    }
   ],
   "source": [
    "alpha = OurSOM.sk_cluster(x_vectors, cox_vectors, 9, 10)\n",
    "print(alpha.shape)\n",
    "\n",
    "plt.scatter(alpha[:,0], alpha[:,1])\n",
    "plt.show()"
   ]
  },
  {
   "cell_type": "code",
   "execution_count": 20,
   "id": "b0e347a3",
   "metadata": {},
   "outputs": [
    {
     "data": {
      "text/plain": [
       "(563, 3846)"
      ]
     },
     "execution_count": 20,
     "metadata": {},
     "output_type": "execute_result"
    }
   ],
   "source": [
    "x_vectors.shape"
   ]
  },
  {
   "cell_type": "code",
   "execution_count": 21,
   "id": "5e407053",
   "metadata": {
    "scrolled": true
   },
   "outputs": [
    {
     "data": {
      "image/png": "[encoded data removed]",
      "text/plain": [
       "<Figure size 432x288 with 1 Axes>"
      ]
     },
     "metadata": {
      "needs_background": "light"
     },
     "output_type": "display_data"
    }
   ],
   "source": [
    "from itertools import *\n",
    "colors = ['#800000', '#9A6324', '#808000', '#469990', '#000075', '#f58231', '#e6194B', '#dcbeff', '#fabed4']\n",
    "markers = ['+', 'o', 'v',  'x',  '1',  ',',  '*',  '^',  '>']\n",
    "\n",
    "p_wins,q_wins =  OurSOM.set_of_winning_neurons(x_vectors, cox_vectors)\n",
    "c = np.random.randint(1, 9, size=cox_vectors[0].shape)\n",
    "\n",
    "for tag in range(9):    \n",
    "    indices = np.where(x_tags==tag)\n",
    "    plt.scatter(p_wins[indices], q_wins[indices], marker=markers[tag], c=colors[tag], label = '%s' % Roll_nos[tag], s=plt.rcParams['lines.markersize'] * (2.+0.1*tag))\n",
    "\n",
    "plt.legend(loc='center left', bbox_to_anchor=(1, 0.5))\n",
    "plt.xlabel('p')\n",
    "plt.ylabel('q')\n",
    "plt.title('Plotting the SOM output neuron layer')\n",
    "plt.savefig('Clustered.jpg', bbox_inches='tight', dpi=1000)"
   ]
  },
  {
   "cell_type": "code",
   "execution_count": 22,
   "id": "e4f97d6a",
   "metadata": {},
   "outputs": [
    {
     "name": "stdout",
     "output_type": "stream",
     "text": [
      "[3 4 4 3 2 4 1 1 2 3 3 1 3 3 1 3 2 2 2 2 3 1 4 3 3 1 3 2 1 4 4 4 2 2 2 1 4\n",
      " 4 3 1 1 4 2 3 2]\n"
     ]
    },
    {
     "data": {
      "image/png": "[encoded data removed]",
      "text/plain": [
       "<Figure size 432x288 with 1 Axes>"
      ]
     },
     "metadata": {
      "needs_background": "light"
     },
     "output_type": "display_data"
    }
   ],
   "source": [
    "N = 45\n",
    "x, y = np.random.rand(2, N)\n",
    "c = np.random.randint(1, 5, size=N)\n",
    "s = np.random.randint(10, 220, size=N)\n",
    "\n",
    "fig, ax = plt.subplots()\n",
    "\n",
    "scatter = ax.scatter(x, y, c=c, s=s)\n",
    "print(c)\n",
    "fig.savefig('books_read.png')"
   ]
  },
  {
   "cell_type": "code",
   "execution_count": 23,
   "id": "481394c3",
   "metadata": {},
   "outputs": [
    {
     "data": {
      "image/png": "[encoded data removed]",
      "text/plain": [
       "<Figure size 432x288 with 1 Axes>"
      ]
     },
     "metadata": {
      "needs_background": "light"
     },
     "output_type": "display_data"
    }
   ],
   "source": [
    "unique_tags = np.unique(x_tags)\n",
    "num_unique_tags = unique_tags.shape[0]\n",
    "p =np.zeros(num_unique_tags)\n",
    "q = np.zeros(num_unique_tags)\n",
    "for i in range(num_unique_tags):\n",
    "    indices = np.where(x_tags==unique_tags[i])\n",
    "    p[i] = np.mean(p_wins[indices])\n",
    "    q[i] = np.mean(q_wins[indices])\n",
    "    plt.scatter(p[i],q[i])\n",
    "plt.show()"
   ]
  },
  {
   "cell_type": "code",
   "execution_count": 24,
   "id": "a9d69f06",
   "metadata": {},
   "outputs": [
    {
     "data": {
      "text/plain": [
       "array([[8, 9],\n",
       "       [0, 2],\n",
       "       [6, 3]])"
      ]
     },
     "execution_count": 24,
     "metadata": {},
     "output_type": "execute_result"
    }
   ],
   "source": [
    "np.random.choice(a=10, size=(3,2), replace=False)"
   ]
  },
  {
   "cell_type": "code",
   "execution_count": 25,
   "id": "14e98f37",
   "metadata": {},
   "outputs": [
    {
     "data": {
      "text/plain": [
       "array([[ 1, 10],\n",
       "       [ 2, 23],\n",
       "       [ 3, 42]])"
      ]
     },
     "execution_count": 25,
     "metadata": {},
     "output_type": "execute_result"
    }
   ],
   "source": [
    "a = np.array((((1,2,3), (4,5,6), (7,8,9)),((1,2,3), (4,5,6), (7,8,9)),((1,2,3), (4,5,6), (7,8,9))))\n",
    "a = np.array([1, 2, 3])\n",
    "b = np.array([10,23,42])\n",
    "np.concatenate((a[:,None],b[:,None]),axis=1)"
   ]
  },
  {
   "cell_type": "code",
   "execution_count": 26,
   "id": "7c7853ae",
   "metadata": {},
   "outputs": [
    {
     "ename": "IndexError",
     "evalue": "too many indices for array: array is 1-dimensional, but 3 were indexed",
     "output_type": "error",
     "traceback": [
      "\u001b[0;31m---------------------------------------------------------------------------\u001b[0m",
      "\u001b[0;31mIndexError\u001b[0m                                Traceback (most recent call last)",
      "\u001b[0;32m<ipython-input-26-0c22bc6c8889>\u001b[0m in \u001b[0;36m<module>\u001b[0;34m\u001b[0m\n\u001b[0;32m----> 1\u001b[0;31m \u001b[0marr\u001b[0m \u001b[0;34m=\u001b[0m \u001b[0mnp\u001b[0m\u001b[0;34m.\u001b[0m\u001b[0msum\u001b[0m\u001b[0;34m(\u001b[0m \u001b[0ma\u001b[0m\u001b[0;34m[\u001b[0m\u001b[0;34m:\u001b[0m\u001b[0;34m,\u001b[0m\u001b[0;34m:\u001b[0m\u001b[0;34m,\u001b[0m\u001b[0;36m0\u001b[0m\u001b[0;34m:\u001b[0m\u001b[0;36m2\u001b[0m\u001b[0;34m]\u001b[0m\u001b[0;34m,\u001b[0m \u001b[0;36m2\u001b[0m\u001b[0;34m)\u001b[0m\u001b[0;34m\u001b[0m\u001b[0;34m\u001b[0m\u001b[0m\n\u001b[0m\u001b[1;32m      2\u001b[0m \u001b[0mv\u001b[0m \u001b[0;34m=\u001b[0m \u001b[0mnp\u001b[0m\u001b[0;34m.\u001b[0m\u001b[0margmax\u001b[0m\u001b[0;34m(\u001b[0m \u001b[0marr\u001b[0m \u001b[0;34m)\u001b[0m\u001b[0;34m\u001b[0m\u001b[0;34m\u001b[0m\u001b[0m\n\u001b[1;32m      3\u001b[0m \u001b[0mp\u001b[0m\u001b[0;34m,\u001b[0m\u001b[0mq\u001b[0m \u001b[0;34m=\u001b[0m \u001b[0mnp\u001b[0m\u001b[0;34m.\u001b[0m\u001b[0mshape\u001b[0m\u001b[0;34m(\u001b[0m\u001b[0marr\u001b[0m \u001b[0;34m)\u001b[0m\u001b[0;34m\u001b[0m\u001b[0;34m\u001b[0m\u001b[0m\n\u001b[1;32m      4\u001b[0m \u001b[0midc\u001b[0m \u001b[0;34m=\u001b[0m \u001b[0mtuple\u001b[0m\u001b[0;34m(\u001b[0m\u001b[0mnp\u001b[0m\u001b[0;34m.\u001b[0m\u001b[0marray\u001b[0m\u001b[0;34m(\u001b[0m\u001b[0;34m[\u001b[0m\u001b[0mv\u001b[0m\u001b[0;34m/\u001b[0m\u001b[0mq\u001b[0m\u001b[0;34m,\u001b[0m \u001b[0;34m(\u001b[0m\u001b[0mnp\u001b[0m\u001b[0;34m.\u001b[0m\u001b[0mfloor\u001b[0m\u001b[0;34m(\u001b[0m\u001b[0mv\u001b[0m\u001b[0;34m)\u001b[0m\u001b[0;34m)\u001b[0m\u001b[0;34m%\u001b[0m\u001b[0mq\u001b[0m\u001b[0;34m]\u001b[0m\u001b[0;34m,\u001b[0m \u001b[0mdtype\u001b[0m\u001b[0;34m=\u001b[0m\u001b[0mint\u001b[0m\u001b[0;34m)\u001b[0m\u001b[0;34m)\u001b[0m\u001b[0;34m\u001b[0m\u001b[0;34m\u001b[0m\u001b[0m\n\u001b[1;32m      5\u001b[0m \u001b[0mprint\u001b[0m\u001b[0;34m(\u001b[0m\u001b[0marr\u001b[0m\u001b[0;34m)\u001b[0m\u001b[0;34m\u001b[0m\u001b[0;34m\u001b[0m\u001b[0m\n",
      "\u001b[0;31mIndexError\u001b[0m: too many indices for array: array is 1-dimensional, but 3 were indexed"
     ]
    }
   ],
   "source": [
    "arr = np.sum( a[:,:,0:2], 2)\n",
    "v = np.argmax( arr )\n",
    "p,q = np.shape(arr )\n",
    "idc = tuple(np.array([v/q, (np.floor(v))%q], dtype=int))\n",
    "print(arr)\n",
    "print(idc)\n",
    "print(arr[idc])"
   ]
  },
  {
   "cell_type": "code",
   "execution_count": null,
   "id": "42a93c94",
   "metadata": {},
   "outputs": [],
   "source": [
    "a[:,:,0:2]"
   ]
  },
  {
   "cell_type": "code",
   "execution_count": null,
   "id": "bab78de3",
   "metadata": {},
   "outputs": [],
   "source": [
    "np.array([5.],dtype=int)"
   ]
  },
  {
   "cell_type": "code",
   "execution_count": null,
   "id": "d7359292",
   "metadata": {},
   "outputs": [],
   "source": [
    "np.sum(a, axis=0)"
   ]
  },
  {
   "cell_type": "code",
   "execution_count": null,
   "id": "57bf7956",
   "metadata": {},
   "outputs": [],
   "source": []
  },
  {
   "cell_type": "code",
   "execution_count": null,
   "id": "66270d0f",
   "metadata": {},
   "outputs": [],
   "source": [
    "import os\n",
    "import numpy as np\n",
    "from keystroke_feature_extractor import extract_keylog_features\n",
    "from SOM import SOM\n",
    "\n",
    "# hyperparameters\n",
    "num_epochs = 100\n",
    "eta_0 = 1\n",
    "sigma_0 = 40\n",
    "t_eta = 50\n",
    "t_sigma = 50\n",
    "n = 10\n",
    "\n",
    "# Find data\n",
    "Roll_nos = ['17EC32005', '17EC34003', '17EC35023', '17EC35036', '18EC10025', '18EC35010', '18EC35021', '18EC35045', '18EC3AI19']\n",
    "num_roll_nos = len(Roll_nos)\n",
    "\n",
    "data_features = []\n",
    "data_tags = []\n",
    "unique_features = set([])\n",
    "\n",
    "# Extract features for each data file\n",
    "for r in range(num_roll_nos):\n",
    "    for subdir,dirs,file in os.walk(os.path.join('/home/digvijay-pc/Desktop/MIES/OneDrive_2021-11-08/Continuous Data Rearranged',Roll_nos[r])):\n",
    "        for directory in dirs:\n",
    "#             print(subdir,directory)\n",
    "            features = extract_keylog_features(os.path.join('Continuous Data Rearranged',Roll_nos[r],directory,'Keylog.txt'))\n",
    "            data_features.append(features)\n",
    "            data_tags.append(r)\n",
    "            \n",
    "            unique_features = unique_features.union(set([ x for (x,y) in features]))\n",
    "\n",
    "# Split the files into even sizes\n",
    "data_features_temp = []\n",
    "data_tags_temp = []\n",
    "\n",
    "splitting_size = 100\n",
    "\n",
    "for r in range(len(Roll_nos)):\n",
    "    indices = np.where(np.array(data_tags)==r)[0]\n",
    "    features_temp = []\n",
    "    for i in indices:\n",
    "        features_temp = features_temp + data_features[i]\n",
    "    \n",
    "    j=0\n",
    "    j_next=0\n",
    "    while(j_next < len(features_temp)):\n",
    "        j_next = min(j + splitting_size, len(features_temp))\n",
    "        data_features_temp.append(features_temp[j:j_next])\n",
    "        data_tags_temp.append(r)\n",
    "        j = j_next\n",
    "    \n",
    "data_features = data_features_temp\n",
    "data_tags = data_tags_temp\n",
    "\n",
    "# Remove features that have high threshold value \n",
    "threshold = 1\n",
    "\n",
    "unique_features_dict = { list(unique_features)[i]: i for i in range(len(unique_features)) }\n",
    "m = len(unique_features_dict)\n",
    "D = len(data_features) # number of data points\n",
    "\n",
    "# Remove proper vectors to represent the data\n",
    "x_vectors = np.zeros((D,m))\n",
    "x_tags = np.zeros(D)\n",
    "cox_vectors = np.zeros((D,m)) # count of x\n",
    "\n",
    "for d in range(D):\n",
    "    for (a,a_val) in data_features[d]:\n",
    "        if(a_val > threshold):\n",
    "            continue\n",
    "        a_idx = unique_features_dict[a]\n",
    "        x_vectors[d,a_idx] = x_vectors[d,a_idx] + a_val\n",
    "        cox_vectors[d,a_idx] = cox_vectors[d,a_idx] + 1\n",
    "    cnt_locs = np.where(cox_vectors[d,:]>0)\n",
    "    x_vectors[d,cnt_locs] = x_vectors[d,cnt_locs] / cox_vectors[d,cnt_locs]\n",
    "    x_tags[d] = data_tags[d]\n",
    "    \n",
    "# Find mean, std and normalise\n",
    "x_means = np.mean(x_vectors, 0)\n",
    "x_std = np.std(x_vectors, 0)\n",
    "cox_total = np.sum(cox_vectors, 0)\n",
    "\n",
    "std0_locs = np.where(x_std==0)\n",
    "std_locs = np.where(x_std > 0)\n",
    "\n",
    "x_vectors[:,std0_locs] = (x_vectors[:,std0_locs] - x_means[std0_locs])\n",
    "x_vectors[:,std_locs] = (x_vectors[:,std_locs] - x_means[std_locs]) / x_std[std_locs]\n",
    "\n",
    "# Initialise SOM\n",
    "OurSOM = SOM(m,n)\n",
    "\n",
    "# Train\n",
    "OurSOM.train(x_vectors, cox_vectors, num_epochs, eta_0, sigma_0, t_eta, t_sigma)"
   ]
  },
  {
   "cell_type": "code",
   "execution_count": null,
   "id": "5b5f5254",
   "metadata": {},
   "outputs": [],
   "source": []
  }
 ],
 "metadata": {
  "kernelspec": {
   "display_name": "Python 3",
   "language": "python",
   "name": "python3"
  },
  "language_info": {
   "codemirror_mode": {
    "name": "ipython",
    "version": 3
   },
   "file_extension": ".py",
   "mimetype": "text/x-python",
   "name": "python",
   "nbconvert_exporter": "python",
   "pygments_lexer": "ipython3",
   "version": "3.9.6"
  },
  "varInspector": {
   "cols": {
    "lenName": 16,
    "lenType": 16,
    "lenVar": 40
   },
   "kernels_config": {
    "python": {
     "delete_cmd_postfix": "",
     "delete_cmd_prefix": "del ",
     "library": "var_list.py",
     "varRefreshCmd": "print(var_dic_list())"
    },
    "r": {
     "delete_cmd_postfix": ") ",
     "delete_cmd_prefix": "rm(",
     "library": "var_list.r",
     "varRefreshCmd": "cat(var_dic_list()) "
    }
   },
   "types_to_exclude": [
    "module",
    "function",
    "builtin_function_or_method",
    "instance",
    "_Feature"
   ],
   "window_display": false
  }
 },
 "nbformat": 4,
 "nbformat_minor": 5
}
