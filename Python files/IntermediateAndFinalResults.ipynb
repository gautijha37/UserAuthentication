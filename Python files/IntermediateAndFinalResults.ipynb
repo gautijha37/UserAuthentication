{
 "cells": [
  {
   "cell_type": "markdown",
   "id": "ca782148-7cf7-49da-8b3f-19794f3a0e42",
   "metadata": {
    "tags": []
   },
   "source": [
    "## Test space\n",
    "This notebook will serve as the test space where we execute terminal commands only. This will also store the output log of a previous run of the code if anyone is interested."
   ]
  },
  {
   "cell_type": "code",
   "execution_count": null,
   "id": "e3f8945b-7541-45d4-9fad-e569d0c18847",
   "metadata": {},
   "outputs": [],
   "source": [
    "!python main.py"
   ]
  },
  {
   "cell_type": "markdown",
   "id": "8d1862da-38b2-48a2-af65-6e070ba9e382",
   "metadata": {},
   "source": [
    "![All the cluster centres in Kohonen Layer](Figures/clustercentres.jpg)"
   ]
  },
  {
   "cell_type": "markdown",
   "id": "c472ad2f-78f7-4dd0-a092-dca1a6f2e211",
   "metadata": {},
   "source": [
    "![Winning neurons for pairs of users sample](Figures/1.jpg)"
   ]
  },
  {
   "cell_type": "markdown",
   "id": "2de4fead-073d-4847-98a5-d28ab22a10db",
   "metadata": {},
   "source": [
    "![Winning neurons for pairs of users sample](Figures/2.jpg)"
   ]
  },
  {
   "cell_type": "markdown",
   "id": "d80d811d-3ac6-4334-bafc-3d47b0a5a027",
   "metadata": {},
   "source": [
    "![Winning neurons for pairs of users sample](Figures/3.jpg)"
   ]
  },
  {
   "cell_type": "markdown",
   "id": "93012a6a-e09a-48dc-9d9b-652163f3a4cc",
   "metadata": {},
   "source": [
    "![Winning neurons for all users](Figures/Clustered.jpg)"
   ]
  },
  {
   "cell_type": "markdown",
   "id": "a73b8a0a-3b90-49f4-a269-66dff6e543af",
   "metadata": {},
   "source": [
    "![Heatmap of row-normalised accuracies](Figures/heatmap.jpg)"
   ]
  },
  {
   "cell_type": "code",
   "execution_count": null,
   "id": "8789b920-c559-4084-8f47-28eb8d155b8a",
   "metadata": {},
   "outputs": [],
   "source": []
  }
 ],
 "metadata": {
  "kernelspec": {
   "display_name": "Python 3",
   "language": "python",
   "name": "python3"
  },
  "language_info": {
   "codemirror_mode": {
    "name": "ipython",
    "version": 3
   },
   "file_extension": ".py",
   "mimetype": "text/x-python",
   "name": "python",
   "nbconvert_exporter": "python",
   "pygments_lexer": "ipython3",
   "version": "3.9.6"
  }
 },
 "nbformat": 4,
 "nbformat_minor": 5
}
